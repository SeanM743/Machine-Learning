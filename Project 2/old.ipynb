{
 "cells": [
  {
   "cell_type": "code",
   "execution_count": 1,
   "metadata": {},
   "outputs": [],
   "source": [
    "import random\n",
    "import pandas as pd\n",
    "import math\n",
    "import numpy as np\n",
    "import matplotlib.pyplot as plt\n",
    "from collections import defaultdict\n",
    "from sklearn.preprocessing import StandardScaler, KBinsDiscretizer\n",
    "import warnings\n",
    "warnings.filterwarnings('ignore')"
   ]
  },
  {
   "cell_type": "code",
   "execution_count": 2,
   "metadata": {},
   "outputs": [],
   "source": [
    "def check_weights(df,w,theta):\n",
    "    '''checks the weights returned by winnow model with any dataframe, assuming last column is label category'''\n",
    "    df_dum = build_dummies(df)\n",
    "    sums = [sum(a*b for a,b in zip(df_dum.iloc[i,:],w)) for i in range(len(df_dum))]\n",
    "    classified = [i >= theta for i in sums]\n",
    "    \n",
    "    return all(a == b for a,b in zip(classified, df.iloc[:,-1]))"
   ]
  },
  {
   "cell_type": "code",
   "execution_count": 3,
   "metadata": {},
   "outputs": [],
   "source": [
    "def predict_winnow_sample(sample,pred,weights,threshold):\n",
    "    classified = np.dot(sample,weights)\n",
    "    if classified >= threshold:\n",
    "        #return 1 == pred\n",
    "        return True\n",
    "    else:\n",
    "        #return 0 == pred\n",
    "        return False"
   ]
  },
  {
   "cell_type": "code",
   "execution_count": 4,
   "metadata": {},
   "outputs": [],
   "source": [
    "def predict_winnow(df,preds,weights,threshold):\n",
    "    correct = []\n",
    "    for i in range(len(df)):\n",
    "        correct.append(predict_winnow_sample(df.iloc[i,:],preds[i],weights,threshold))\n",
    "    return correct"
   ]
  },
  {
   "cell_type": "code",
   "execution_count": 5,
   "metadata": {},
   "outputs": [],
   "source": [
    "def test_train_split(df,fraction, discretize = False, n_bins = 10):\n",
    "    \n",
    "    num = math.ceil(len(df)*fraction)\n",
    "        \n",
    "    if discretize:\n",
    "        y_data = df.iloc[:,len(df.columns)-1]\n",
    "        X_data = df.iloc[:,:-1] #remove class column\n",
    "        \n",
    "        scaler = StandardScaler(copy=True)\n",
    "        Xt = scaler.fit_transform(X_data)\n",
    "        est = KBinsDiscretizer(n_bins, encode ='onehot-dense',strategy='quantile')\n",
    "        Xt1 = est.fit_transform(Xt)\n",
    "        Xt2 = pd.DataFrame(Xt1)\n",
    "        \n",
    "        Xt2.insert(len(Xt2.columns),'Class',y_data)\n",
    "        train = Xt2.sample(n = num, replace = False)\n",
    "        test = Xt2[~Xt2.index.isin(train.index)]\n",
    "        train = train.reset_index(drop=True,inplace=False)\n",
    "        test = test.reset_index(drop=True,inplace = False)\n",
    "        \n",
    "        X_train = train.iloc[:,0:-1]\n",
    "        y_train = train.iloc[:,-1]\n",
    "        X_test = test.iloc[:,0:-1]\n",
    "        y_test = test.iloc[:,-1]\n",
    "\n",
    "        return X_train,y_train,X_test,y_test\n",
    "    \n",
    "    else:\n",
    "        \n",
    "        train = df.sample(n = num, replace = False)\n",
    "        test = df[~df.index.isin(train.index)]\n",
    "        train = train.reset_index(drop=True,inplace=False)\n",
    "        test = test.reset_index(drop=True,inplace = False)\n",
    "        \n",
    "        X_train = train.iloc[:,0:-1]\n",
    "        y_train = train.iloc[:,-1]\n",
    "        X_test = test.iloc[:,0:-1]\n",
    "        y_test = test.iloc[:,-1]\n",
    "   \n",
    "    return X_train,y_train,X_test,y_test"
   ]
  },
  {
   "cell_type": "code",
   "execution_count": 6,
   "metadata": {},
   "outputs": [],
   "source": [
    "def build_dummies(df):\n",
    "    if df.columns[0] == 'id':\n",
    "        df = df.iloc[:,1:]\n",
    "    else:\n",
    "        df = df.iloc[:,0:]\n",
    "    df_dum = pd.DataFrame()\n",
    "    for i in range(len(df.columns)):\n",
    "        temp = pd.get_dummies(df.iloc[:,i],drop_first=False,prefix = df.columns[i])\n",
    "        df_dum = pd.concat([df_dum,temp], axis = 1)\n",
    "    \n",
    "    return df_dum"
   ]
  },
  {
   "cell_type": "code",
   "execution_count": 7,
   "metadata": {},
   "outputs": [],
   "source": [
    "def discretize_values(df,num_bins):\n",
    "    #label = df.iloc[:,-1]\n",
    "    add_id = False\n",
    "    df2 = df.copy()\n",
    "    if df2.columns[0] == 'id':\n",
    "        id = df2.iloc[:,0]\n",
    "        add_id = True\n",
    "        df2 = df2.iloc[:,1:] #drop off id and label fields\n",
    "    for cols in df2:\n",
    "            bins = pd.cut(df2[cols],num_bins, labels = range(num_bins),duplicates = 'drop')#[x for x in range(num_bins)])\n",
    "            df2[cols] = bins\n",
    "    if add_id:\n",
    "        df2.insert(0,'id',id)\n",
    "    #df.insert(len(df.columns),'label',label)\n",
    "    #print(df)\n",
    "    return build_dummies(df2)\n"
   ]
  },
  {
   "cell_type": "code",
   "execution_count": 8,
   "metadata": {},
   "outputs": [],
   "source": [
    "#assume first column is index and last column is label\n",
    "\n",
    "def winnow(df, labels, theta=5, alpha=2):\n",
    "    \n",
    "    '''This function access df,...\n",
    "    assumes that df fields are ...'''\n",
    "    \n",
    "    width_df = len(df.columns)\n",
    "    weights = [1]*(width_df)\n",
    "    done = False\n",
    "    errors = 0\n",
    " \n",
    "    while not done:\n",
    "        done = True\n",
    "        for i in range(len(df)):\n",
    "            classified = (sum([a*b for a,b in zip(weights,df.iloc[i,:])]) > theta)\n",
    "            #print(sum([a*b for a,b in zip(weights,df.iloc[i,:])]))\n",
    "            if classified != labels[i]:\n",
    "                errors += 1\n",
    "                done = False\n",
    "                if classified == True and labels[i] == 0: #demote\n",
    "                    weights = [weights[k]/alpha if df.iloc[i,k] == 1 else weights[k] for k in range(width_df)]\n",
    "                else: #promote\n",
    "                    weights = [weights[k]*alpha if df.iloc[i,k] == 1 else weights[k] for k in range(width_df)]\n",
    "    return weights,errors"
   ]
  },
  {
   "cell_type": "code",
   "execution_count": 9,
   "metadata": {},
   "outputs": [],
   "source": [
    "def train_models(df, preds, num_classes,theta,alpha):\n",
    "    weights = []\n",
    "\n",
    "    for i in range(num_classes):\n",
    "        to_replace = {i:0 for i in range(num_classes)}\n",
    "        to_replace[i] = 1\n",
    "        temp = preds.replace(to_replace,inplace=False)\n",
    "        w, e = winnow(df,temp,theta,alpha)\n",
    "        weights.append(w)\n",
    "        \n",
    "    return weights"
   ]
  },
  {
   "cell_type": "code",
   "execution_count": null,
   "metadata": {},
   "outputs": [],
   "source": []
  },
  {
   "cell_type": "code",
   "execution_count": 10,
   "metadata": {},
   "outputs": [],
   "source": [
    "def multi_class_pred(df, weights,theta):\n",
    "\n",
    "    closest = 100000\n",
    "    temp = 0\n",
    "    num_rows = len(df)\n",
    "    num_classes = len(weights)\n",
    "    winner = -1\n",
    "    \n",
    "    for i in range(num_classes):                     \n",
    "        #wxv = abs(sum(np.dot(df,weights[i])) - theta) \n",
    "        wxv = abs(np.dot(df,weights[i]) - theta)\n",
    "        if wxv < closest:\n",
    "            closest = wxv\n",
    "            winner = i\n",
    "                \n",
    "    return winner if winner >= 0 else None"
   ]
  },
  {
   "cell_type": "code",
   "execution_count": 11,
   "metadata": {},
   "outputs": [],
   "source": [
    "def multi_class_pred_df(df,weights,theta):\n",
    "    preds = []\n",
    "    \n",
    "    for i in range(len(df)):\n",
    "        preds.append(multi_class_pred(df.iloc[i,:], weights,theta))\n",
    "    return preds"
   ]
  },
  {
   "cell_type": "code",
   "execution_count": 12,
   "metadata": {},
   "outputs": [],
   "source": [
    "def confusion(y_act,y_pred, margins = False):\n",
    "    #y_act = pd.Categorical(y_test.astype(bool))\n",
    "    y_pred = pd.Categorical(y_pred)\n",
    "    df_conf = pd.crosstab(y_act, y_pred, rownames=['Actual'], colnames=['Predicted'], margins=margins)\n",
    "\n",
    "    return df_conf"
   ]
  },
  {
   "cell_type": "code",
   "execution_count": 13,
   "metadata": {},
   "outputs": [],
   "source": [
    "def confusion_statistics(conf_table):\n",
    "    total = conf_table[0][0] + conf_table[0][1] + conf_table[1][0] + conf_table[1][1] \n",
    "    print(\"Pred False, Actual False (%): {:.2f}\".format(a[0][0]/total))\n",
    "    print(\"Pred True, Actual True (%): {:.2f}\".format(a[1][1] / total))\n",
    "    print(\"Pred False, Actual True (%): {:.2f}\".format(a[0][1]/total))\n",
    "    print(\"Pred True, Actual False (%): {:.2f}\".format(a[1][0]/total))"
   ]
  },
  {
   "cell_type": "code",
   "execution_count": 14,
   "metadata": {},
   "outputs": [],
   "source": [
    "def plot_confusion_matrix(df_conf, title='Confusion matrix', cmap=plt.cm.gray_r):\n",
    "    plt.matshow(df_conf, cmap=cmap) # imshow\n",
    "    plt.colorbar()\n",
    "    tick_marks = np.arange(len(df_conf.columns))\n",
    "    plt.xticks(tick_marks, df_conf.columns, rotation=45)\n",
    "    plt.yticks(tick_marks, df_conf.index)\n",
    "    #plt.tight_layout()\n",
    "    plt.ylabel(df_conf.index.name)\n",
    "    plt.xlabel(df_conf.columns.name)"
   ]
  },
  {
   "cell_type": "code",
   "execution_count": 15,
   "metadata": {},
   "outputs": [],
   "source": [
    "#Breast Cancer Dataset\n",
    "\n",
    "bc = pd.read_csv('breast-cancer-wisconsin.data', names = ['id','Clump Thickness','Uniformity of Size', 'Uniformity of Shape',\n",
    "                                                         'Adhesion','Size','Bare Nuclei','Bland Chromatin','Norm Nucleoli',\n",
    "                                                          'Mitoses', 'Class'])\n",
    "bc = bc.drop(bc[bc['Bare Nuclei']== '?'].index)\n",
    "bc['Bare Nuclei'] =  bc['Bare Nuclei'].astype(int)\n",
    "bc = bc.reset_index(drop=True)\n",
    "rep = {2:0,4:1}\n",
    "bc['Class'] = bc['Class'].replace(rep,inplace = False)\n",
    "\n",
    "temp = bc.iloc[:,0:-1]\n",
    "temp = build_dummies(temp)\n",
    "temp.insert(loc = len(temp.columns), column='Class', value = list(bc.iloc[:,-1]))"
   ]
  },
  {
   "cell_type": "code",
   "execution_count": 16,
   "metadata": {},
   "outputs": [],
   "source": [
    "X_train,y_train,X_test,y_test = test_train_split(temp,.67)\n",
    "w,err = winnow(X_train,y_train,45,1.2)"
   ]
  },
  {
   "cell_type": "code",
   "execution_count": 17,
   "metadata": {},
   "outputs": [
    {
     "data": {
      "text/plain": [
       "[0.6944444444444445,\n",
       " 5.159780351999999,\n",
       " 2.48832,\n",
       " 0.8333333333333334,\n",
       " 4.299816959999999,\n",
       " 0.48225308641975323,\n",
       " 10.699320537907196,\n",
       " 8.916100448255998,\n",
       " 5.159780351999999,\n",
       " 18.48842588950363,\n",
       " 0.13458798574153816,\n",
       " 5.159780351999999,\n",
       " 7.430083706879999,\n",
       " 0.3348979766803842,\n",
       " 12.839184645488634,\n",
       " 8.916100448255998,\n",
       " 1.0,\n",
       " 8.916100448255998,\n",
       " 3.5831807999999996,\n",
       " 22.186111067404358,\n",
       " 0.1615055828898458,\n",
       " 1.2,\n",
       " 4.299816959999999,\n",
       " 4.299816959999999,\n",
       " 8.916100448255998,\n",
       " 7.430083706879999,\n",
       " 5.159780351999999,\n",
       " 6.191736422399999,\n",
       " 2.9859839999999997,\n",
       " 6.191736422399999,\n",
       " 1.2,\n",
       " 1.2,\n",
       " 6.191736422399999,\n",
       " 8.916100448255998,\n",
       " 3.5831807999999996,\n",
       " 2.9859839999999997,\n",
       " 4.299816959999999,\n",
       " 3.5831807999999996,\n",
       " 1,\n",
       " 10.699320537907196,\n",
       " 0.8333333333333334,\n",
       " 4.299816959999999,\n",
       " 5.159780351999999,\n",
       " 4.299816959999999,\n",
       " 10.699320537907196,\n",
       " 2.9859839999999997,\n",
       " 4.299816959999999,\n",
       " 1.44,\n",
       " 1,\n",
       " 8.916100448255998,\n",
       " 1.2,\n",
       " 1.44,\n",
       " 7.430083706879999,\n",
       " 3.5831807999999996,\n",
       " 2.48832,\n",
       " 4.299816959999999,\n",
       " 2.9859839999999997,\n",
       " 3.5831807999999996,\n",
       " 4.299816959999999,\n",
       " 6.191736422399997,\n",
       " 0.48225308641975323,\n",
       " 2.48832,\n",
       " 1.0,\n",
       " 12.839184645488634,\n",
       " 12.839184645488634,\n",
       " 1.44,\n",
       " 5.159780351999999,\n",
       " 10.699320537907196,\n",
       " 1.728,\n",
       " 5.159780351999999,\n",
       " 2.9859839999999997,\n",
       " 0.48225308641975323,\n",
       " 7.430083706879999,\n",
       " 3.5831807999999996,\n",
       " 1.2,\n",
       " 8.916100448255998,\n",
       " 2.9859839999999997,\n",
       " 2.0736,\n",
       " 4.299816959999999,\n",
       " 12.839184645488634,\n",
       " 10.699320537907195,\n",
       " 8.916100448255998,\n",
       " 12.839184645488633,\n",
       " 4.299816959999999,\n",
       " 2.48832,\n",
       " 1.2,\n",
       " 1.2,\n",
       " 2.9859839999999997,\n",
       " 2.48832]"
      ]
     },
     "execution_count": 17,
     "metadata": {},
     "output_type": "execute_result"
    }
   ],
   "source": [
    "w"
   ]
  },
  {
   "cell_type": "code",
   "execution_count": 18,
   "metadata": {},
   "outputs": [
    {
     "data": {
      "image/png": "[encoded data removed]",
      "text/plain": [
       "<matplotlib.figure.Figure at 0x1ea7a83ce80>"
      ]
     },
     "metadata": {
      "needs_background": "light"
     },
     "output_type": "display_data"
    }
   ],
   "source": [
    "t = predict_winnow(X_test,y_test,w,45)\n",
    "a = confusion(y_test,t)\n",
    "plot_confusion_matrix(a)"
   ]
  },
  {
   "cell_type": "code",
   "execution_count": 19,
   "metadata": {},
   "outputs": [
    {
     "name": "stdout",
     "output_type": "stream",
     "text": [
      "Pred False, Actual False (%): 0.64\n",
      "Pred True, Actual True (%): 0.31\n",
      "Pred False, Actual True (%): 0.04\n",
      "Pred True, Actual False (%): 0.02\n"
     ]
    }
   ],
   "source": [
    "confusion_statistics(a)"
   ]
  },
  {
   "cell_type": "code",
   "execution_count": 20,
   "metadata": {},
   "outputs": [
    {
     "data": {
      "text/html": [
       "<div>\n",
       "<style scoped>\n",
       "    .dataframe tbody tr th:only-of-type {\n",
       "        vertical-align: middle;\n",
       "    }\n",
       "\n",
       "    .dataframe tbody tr th {\n",
       "        vertical-align: top;\n",
       "    }\n",
       "\n",
       "    .dataframe thead th {\n",
       "        text-align: right;\n",
       "    }\n",
       "</style>\n",
       "<table border=\"1\" class=\"dataframe\">\n",
       "  <thead>\n",
       "    <tr style=\"text-align: right;\">\n",
       "      <th>Predicted</th>\n",
       "      <th>False</th>\n",
       "      <th>True</th>\n",
       "    </tr>\n",
       "    <tr>\n",
       "      <th>Actual</th>\n",
       "      <th></th>\n",
       "      <th></th>\n",
       "    </tr>\n",
       "  </thead>\n",
       "  <tbody>\n",
       "    <tr>\n",
       "      <th>0</th>\n",
       "      <td>143</td>\n",
       "      <td>4</td>\n",
       "    </tr>\n",
       "    <tr>\n",
       "      <th>1</th>\n",
       "      <td>8</td>\n",
       "      <td>70</td>\n",
       "    </tr>\n",
       "  </tbody>\n",
       "</table>\n",
       "</div>"
      ],
      "text/plain": [
       "Predicted  False  True\n",
       "Actual                \n",
       "0            143     4\n",
       "1              8    70"
      ]
     },
     "execution_count": 20,
     "metadata": {},
     "output_type": "execute_result"
    }
   ],
   "source": [
    "a"
   ]
  },
  {
   "cell_type": "code",
   "execution_count": 21,
   "metadata": {},
   "outputs": [],
   "source": [
    "#Glass dataset\n",
    "glass_df = pd.read_csv('glass.data',names = ['id', 'RI','Na','Mg','Al',\n",
    "                                             'Si','K','Ca','Ba','Fe',\n",
    "                                             'Class'])\n",
    "glass_df = glass_df.iloc[:,1:]\n",
    "\n",
    "#contain values {1, 2, 3, 5, 6, 7} in class field\n",
    "\n",
    "glass_df['Class'] = glass_df['Class'].astype(\"category\").cat.codes\n",
    "X_train,y_train,X_test,y_test = test_train_split(glass_df,.67,True,10)"
   ]
  },
  {
   "cell_type": "code",
   "execution_count": 22,
   "metadata": {},
   "outputs": [],
   "source": [
    "#Model would not train on custom discretize function \n",
    "#X_train,y_train,X_test,y_test = test_train_split(glass_df,.75)\n",
    "#Xt = discretize_values(X_train,10)"
   ]
  },
  {
   "cell_type": "code",
   "execution_count": 23,
   "metadata": {},
   "outputs": [],
   "source": [
    "#Xdisc_glass_train = discretize_values(X_train,10) \n",
    "#Xdisc_glass_test = discretize_values(X_test,10) \n",
    "\n",
    "#Build up datasets to run winnow one at a time on\n",
    "to_replace0 = {0:1,1:0,2:0,3:0,4:0,5:0}\n",
    "train_glass_zero = y_train.replace(to_replace0,inplace=False)\n",
    "test_glass_zero = y_test.replace(to_replace0,inplace=False)\n",
    "\n",
    "to_replace1 = {0:0,1:1,2:0,3:0,4:0,5:0}\n",
    "train_glass_one = y_train.replace(to_replace1,inplace=False)\n",
    "test_glass_one = y_test.replace(to_replace1,inplace=False)\n",
    "\n",
    "to_replace2 = {0:0,1:0,2:1,3:0,4:0,5:0}\n",
    "train_glass_two = y_train.replace(to_replace2,inplace=False)\n",
    "test_glass_two = y_test.replace(to_replace2,inplace=False)\n",
    "\n",
    "to_replace3 = {0:0,1:0,2:0,3:1,4:0,5:0}\n",
    "train_glass_three = y_train.replace(to_replace3,inplace=False)\n",
    "test_glass_three = y_test.replace(to_replace3,inplace=False)\n",
    "\n",
    "to_replace4 = {0:0,1:0,2:0,3:0,4:1,5:0}\n",
    "train_glass_four = y_train.replace(to_replace4,inplace=False)\n",
    "test_glass_four = y_test.replace(to_replace4,inplace=False)\n",
    "\n",
    "to_replace5 = {0:0,1:0,2:0,3:0,4:0,5:1}\n",
    "train_glass_five = y_train.replace(to_replace5,inplace=False)\n",
    "test_glass_five = y_test.replace(to_replace5,inplace=False)\n"
   ]
  },
  {
   "cell_type": "code",
   "execution_count": 24,
   "metadata": {},
   "outputs": [],
   "source": [
    "#Train glass df\n",
    "w0,e0 = winnow(X_train,train_glass_zero,35,1.2)\n",
    "#w1,e1 = winnow(X_train,train_glass_one,35,1.2)\n",
    "#w2,e2 = winnow(X_train,train_glass_two,35,1.2)\n",
    "#w3,e3 = winnow(X_train,train_glass_three,35,1.2)\n",
    "#w4,e4 = winnow(X_train,train_glass_four,35,1.2)\n",
    "#w5,e5 = winnow(X_train,train_glass_five,35,1.2)"
   ]
  },
  {
   "cell_type": "code",
   "execution_count": 25,
   "metadata": {},
   "outputs": [],
   "source": [
    "wts = train_models(X_train,y_train,6,35,1.2)"
   ]
  },
  {
   "cell_type": "code",
   "execution_count": 26,
   "metadata": {},
   "outputs": [
    {
     "data": {
      "text/plain": [
       "True"
      ]
     },
     "execution_count": 26,
     "metadata": {},
     "output_type": "execute_result"
    }
   ],
   "source": [
    "wts[0] == w0"
   ]
  },
  {
   "cell_type": "code",
   "execution_count": 27,
   "metadata": {},
   "outputs": [
    {
     "data": {
      "text/html": [
       "<div>\n",
       "<style scoped>\n",
       "    .dataframe tbody tr th:only-of-type {\n",
       "        vertical-align: middle;\n",
       "    }\n",
       "\n",
       "    .dataframe tbody tr th {\n",
       "        vertical-align: top;\n",
       "    }\n",
       "\n",
       "    .dataframe thead th {\n",
       "        text-align: right;\n",
       "    }\n",
       "</style>\n",
       "<table border=\"1\" class=\"dataframe\">\n",
       "  <thead>\n",
       "    <tr style=\"text-align: right;\">\n",
       "      <th>Predicted</th>\n",
       "      <th>0</th>\n",
       "      <th>1</th>\n",
       "      <th>2</th>\n",
       "      <th>3</th>\n",
       "      <th>4</th>\n",
       "      <th>5</th>\n",
       "    </tr>\n",
       "    <tr>\n",
       "      <th>Actual</th>\n",
       "      <th></th>\n",
       "      <th></th>\n",
       "      <th></th>\n",
       "      <th></th>\n",
       "      <th></th>\n",
       "      <th></th>\n",
       "    </tr>\n",
       "  </thead>\n",
       "  <tbody>\n",
       "    <tr>\n",
       "      <th>0</th>\n",
       "      <td>9</td>\n",
       "      <td>5</td>\n",
       "      <td>7</td>\n",
       "      <td>1</td>\n",
       "      <td>0</td>\n",
       "      <td>0</td>\n",
       "    </tr>\n",
       "    <tr>\n",
       "      <th>1</th>\n",
       "      <td>13</td>\n",
       "      <td>6</td>\n",
       "      <td>4</td>\n",
       "      <td>2</td>\n",
       "      <td>0</td>\n",
       "      <td>2</td>\n",
       "    </tr>\n",
       "    <tr>\n",
       "      <th>2</th>\n",
       "      <td>0</td>\n",
       "      <td>5</td>\n",
       "      <td>3</td>\n",
       "      <td>0</td>\n",
       "      <td>0</td>\n",
       "      <td>0</td>\n",
       "    </tr>\n",
       "    <tr>\n",
       "      <th>3</th>\n",
       "      <td>0</td>\n",
       "      <td>3</td>\n",
       "      <td>0</td>\n",
       "      <td>1</td>\n",
       "      <td>0</td>\n",
       "      <td>0</td>\n",
       "    </tr>\n",
       "    <tr>\n",
       "      <th>4</th>\n",
       "      <td>0</td>\n",
       "      <td>0</td>\n",
       "      <td>0</td>\n",
       "      <td>0</td>\n",
       "      <td>2</td>\n",
       "      <td>1</td>\n",
       "    </tr>\n",
       "    <tr>\n",
       "      <th>5</th>\n",
       "      <td>0</td>\n",
       "      <td>2</td>\n",
       "      <td>0</td>\n",
       "      <td>2</td>\n",
       "      <td>1</td>\n",
       "      <td>1</td>\n",
       "    </tr>\n",
       "  </tbody>\n",
       "</table>\n",
       "</div>"
      ],
      "text/plain": [
       "Predicted   0  1  2  3  4  5\n",
       "Actual                      \n",
       "0           9  5  7  1  0  0\n",
       "1          13  6  4  2  0  2\n",
       "2           0  5  3  0  0  0\n",
       "3           0  3  0  1  0  0\n",
       "4           0  0  0  0  2  1\n",
       "5           0  2  0  2  1  1"
      ]
     },
     "execution_count": 27,
     "metadata": {},
     "output_type": "execute_result"
    }
   ],
   "source": [
    "a = multi_class_pred_df(X_test,wts,35)\n",
    "confusion(y_test,a)"
   ]
  },
  {
   "cell_type": "code",
   "execution_count": null,
   "metadata": {},
   "outputs": [],
   "source": [
    "len(y_test)"
   ]
  },
  {
   "cell_type": "markdown",
   "metadata": {},
   "source": [
    "Tried strategy quantile, uniform (winner quantile)\n",
    "Tried bin size 3 to 10\n",
    "Tried theta 1.1 to 4\n",
    "Theta of 1.2 was sweetspot\n",
    "Feature scaling reduced time by 75%"
   ]
  },
  {
   "cell_type": "code",
   "execution_count": 28,
   "metadata": {},
   "outputs": [],
   "source": [
    "#Iris Dataset\n",
    "iris_df = pd.read_csv('iris.data', names = ['slength','swidth','plength','pwidth','Class'])\n",
    "\n",
    "#change cateogires as follows:\n",
    "#Iris-setosa: 0\n",
    "#Iris-versicolor: 1\n",
    "#Iris-virginica: 2\n",
    "iris_df['Class'] = iris_df['Class'].astype(\"category\").cat.codes\n",
    "\n",
    "#temp = iris_df.iloc[:,0:-1]\n",
    "#discretized = discretize_values(temp,10) \n",
    "#discretized.insert(loc = len(discretized.columns), column='Class', value = list(iris_df.iloc[:,-1]))\n",
    "#X_train,y_train,X_test,y_test = test_train_split(df = discretized,fraction = .67)\n",
    "\n"
   ]
  },
  {
   "cell_type": "code",
   "execution_count": 29,
   "metadata": {},
   "outputs": [
    {
     "data": {
      "text/plain": [
       "150"
      ]
     },
     "execution_count": 29,
     "metadata": {},
     "output_type": "execute_result"
    }
   ],
   "source": [
    "len(iris_df)"
   ]
  },
  {
   "cell_type": "code",
   "execution_count": 30,
   "metadata": {},
   "outputs": [],
   "source": [
    "X_train,y_train,X_test,y_test = test_train_split(iris_df,.67,True,10)\n",
    "#Build up datasets to run winnow one at a time on\n",
    "to_replace0 = {0:1,1:0,2:0}\n",
    "train_iris_zero = y_train.replace(to_replace0,inplace=False)\n",
    "test_iris_zero = y_test.replace(to_replace0,inplace=False)\n",
    "\n",
    "to_replace1 = {0:0,1:1,2:0}\n",
    "train_iris_one = y_train.replace(to_replace1,inplace=False)\n",
    "test_iris_one = y_test.replace(to_replace1,inplace=False)\n",
    "\n",
    "to_replace2 = {0:0,1:0,2:1}\n",
    "train_iris_two = y_train.replace(to_replace2,inplace=False)\n",
    "test_iris_two = y_test.replace(to_replace2,inplace=False)"
   ]
  },
  {
   "cell_type": "code",
   "execution_count": 31,
   "metadata": {},
   "outputs": [
    {
     "data": {
      "text/plain": [
       "38"
      ]
     },
     "execution_count": 31,
     "metadata": {},
     "output_type": "execute_result"
    }
   ],
   "source": [
    "len(X_train.columns)"
   ]
  },
  {
   "cell_type": "code",
   "execution_count": 32,
   "metadata": {},
   "outputs": [],
   "source": [
    "w0,e0 = winnow(X_train,train_iris_zero,20,1.2)\n",
    "w1,e1 = winnow(X_train,train_iris_one,20,1.2)\n",
    "w2,e2 = winnow(X_train,train_iris_two,20,1.2)"
   ]
  },
  {
   "cell_type": "code",
   "execution_count": 33,
   "metadata": {},
   "outputs": [],
   "source": [
    "wts = train_models(X_train,y_train,3,20,1.2)\n",
    "a = multi_class_pred_df(X_test,wts,20)\n"
   ]
  },
  {
   "cell_type": "code",
   "execution_count": 34,
   "metadata": {},
   "outputs": [
    {
     "data": {
      "text/html": [
       "<div>\n",
       "<style scoped>\n",
       "    .dataframe tbody tr th:only-of-type {\n",
       "        vertical-align: middle;\n",
       "    }\n",
       "\n",
       "    .dataframe tbody tr th {\n",
       "        vertical-align: top;\n",
       "    }\n",
       "\n",
       "    .dataframe thead th {\n",
       "        text-align: right;\n",
       "    }\n",
       "</style>\n",
       "<table border=\"1\" class=\"dataframe\">\n",
       "  <thead>\n",
       "    <tr style=\"text-align: right;\">\n",
       "      <th>Predicted</th>\n",
       "      <th>0</th>\n",
       "      <th>1</th>\n",
       "      <th>2</th>\n",
       "    </tr>\n",
       "    <tr>\n",
       "      <th>Actual</th>\n",
       "      <th></th>\n",
       "      <th></th>\n",
       "      <th></th>\n",
       "    </tr>\n",
       "  </thead>\n",
       "  <tbody>\n",
       "    <tr>\n",
       "      <th>0</th>\n",
       "      <td>9</td>\n",
       "      <td>1</td>\n",
       "      <td>2</td>\n",
       "    </tr>\n",
       "    <tr>\n",
       "      <th>1</th>\n",
       "      <td>1</td>\n",
       "      <td>7</td>\n",
       "      <td>7</td>\n",
       "    </tr>\n",
       "    <tr>\n",
       "      <th>2</th>\n",
       "      <td>2</td>\n",
       "      <td>5</td>\n",
       "      <td>15</td>\n",
       "    </tr>\n",
       "  </tbody>\n",
       "</table>\n",
       "</div>"
      ],
      "text/plain": [
       "Predicted  0  1   2\n",
       "Actual             \n",
       "0          9  1   2\n",
       "1          1  7   7\n",
       "2          2  5  15"
      ]
     },
     "execution_count": 34,
     "metadata": {},
     "output_type": "execute_result"
    }
   ],
   "source": [
    "confusion(y_test,a)"
   ]
  },
  {
   "cell_type": "code",
   "execution_count": null,
   "metadata": {},
   "outputs": [],
   "source": [
    "34/49"
   ]
  },
  {
   "cell_type": "code",
   "execution_count": 40,
   "metadata": {},
   "outputs": [],
   "source": [
    "#Soybean Dataset\n",
    "#there are 9 rows of all zeros, I remove those because winnow doesn't care if these exist or not\n",
    "soy_df = pd.read_csv('soybean-small.data',names = ['A{}'.format(i) for i in range(35)] + ['Class'])\n",
    "soy_df = soy_df.loc[:, (soy_df != 0).any(axis=0)]\n",
    "soy_df['Class'] = soy_df['Class'].astype(\"category\").cat.codes\n"
   ]
  },
  {
   "cell_type": "code",
   "execution_count": 41,
   "metadata": {},
   "outputs": [],
   "source": [
    "#Build up datasets to run winnow one at a time on\n",
    "temp = soy_df.iloc[:,0:-1]\n",
    "temp = build_dummies(temp)\n",
    "temp.insert(loc = len(temp.columns), column='Class', value = list(soy_df.iloc[:,-1]))\n",
    "X_train,y_train,X_test,y_test = test_train_split(temp,.67)\n",
    "\n",
    "to_replace0 = {0:1,1:0,2:0,3:0}\n",
    "train_soy_zero = y_train.replace(to_replace0,inplace=False)\n",
    "test_soy_zero = y_test.replace(to_replace0,inplace=False)\n",
    "\n",
    "to_replace1 = {0:0,1:1,2:0,3:0}\n",
    "train_soy_one = y_train.replace(to_replace1,inplace=False)\n",
    "test_soy_one = y_test.replace(to_replace1,inplace=False)\n",
    "\n",
    "to_replace2 = {0:0,1:0,2:1,3:0}\n",
    "train_soy_two = y_train.replace(to_replace2,inplace=False)\n",
    "test_soy_two = y_test.replace(to_replace2,inplace=False)\n",
    "\n",
    "to_replace3 = {0:0,1:0,2:0,3:1}\n",
    "train_soy_three = y_train.replace(to_replace3,inplace=False)\n",
    "test_soy_three = y_test.replace(to_replace3,inplace=False)\n",
    "\n",
    "\n",
    "\n"
   ]
  },
  {
   "cell_type": "code",
   "execution_count": 37,
   "metadata": {},
   "outputs": [],
   "source": [
    "w0,err0 = winnow(X_train,train_soy_zero,31,2)\n",
    "w1,err1 = winnow(X_train,train_soy_one,31,2)\n",
    "w2,err2 = winnow(X_train,train_soy_two,31,2)\n",
    "w3,err3 = winnow(X_train,train_soy_three,31,2)"
   ]
  },
  {
   "cell_type": "code",
   "execution_count": 42,
   "metadata": {},
   "outputs": [],
   "source": [
    "wts = train_models(X_train,y_train,4,31,2)\n",
    "a = multi_class_pred_df(X_test,wts,31)"
   ]
  },
  {
   "cell_type": "code",
   "execution_count": 43,
   "metadata": {},
   "outputs": [
    {
     "data": {
      "text/html": [
       "<div>\n",
       "<style scoped>\n",
       "    .dataframe tbody tr th:only-of-type {\n",
       "        vertical-align: middle;\n",
       "    }\n",
       "\n",
       "    .dataframe tbody tr th {\n",
       "        vertical-align: top;\n",
       "    }\n",
       "\n",
       "    .dataframe thead th {\n",
       "        text-align: right;\n",
       "    }\n",
       "</style>\n",
       "<table border=\"1\" class=\"dataframe\">\n",
       "  <thead>\n",
       "    <tr style=\"text-align: right;\">\n",
       "      <th>Predicted</th>\n",
       "      <th>0</th>\n",
       "      <th>1</th>\n",
       "      <th>2</th>\n",
       "    </tr>\n",
       "    <tr>\n",
       "      <th>Actual</th>\n",
       "      <th></th>\n",
       "      <th></th>\n",
       "      <th></th>\n",
       "    </tr>\n",
       "  </thead>\n",
       "  <tbody>\n",
       "    <tr>\n",
       "      <th>0</th>\n",
       "      <td>0</td>\n",
       "      <td>5</td>\n",
       "      <td>0</td>\n",
       "    </tr>\n",
       "    <tr>\n",
       "      <th>1</th>\n",
       "      <td>0</td>\n",
       "      <td>3</td>\n",
       "      <td>0</td>\n",
       "    </tr>\n",
       "    <tr>\n",
       "      <th>2</th>\n",
       "      <td>1</td>\n",
       "      <td>0</td>\n",
       "      <td>2</td>\n",
       "    </tr>\n",
       "    <tr>\n",
       "      <th>3</th>\n",
       "      <td>2</td>\n",
       "      <td>2</td>\n",
       "      <td>0</td>\n",
       "    </tr>\n",
       "  </tbody>\n",
       "</table>\n",
       "</div>"
      ],
      "text/plain": [
       "Predicted  0  1  2\n",
       "Actual            \n",
       "0          0  5  0\n",
       "1          0  3  0\n",
       "2          1  0  2\n",
       "3          2  2  0"
      ]
     },
     "execution_count": 43,
     "metadata": {},
     "output_type": "execute_result"
    }
   ],
   "source": [
    "confusion(y_test,a)"
   ]
  },
  {
   "cell_type": "code",
   "execution_count": null,
   "metadata": {},
   "outputs": [],
   "source": [
    "5/11"
   ]
  },
  {
   "cell_type": "code",
   "execution_count": 44,
   "metadata": {},
   "outputs": [],
   "source": [
    "names = ['Class',\n",
    "   'infants',\n",
    "   'water',\n",
    "   'budget',\n",
    "   'physician',\n",
    "   'elsal',\n",
    "   'religious',\n",
    "   'anti-sat',\n",
    "   'contras',\n",
    "   'missile',\n",
    "   'immigration',\n",
    "   'synfuels',\n",
    "   'education',\n",
    "   'sue',\n",
    "   'crime',\n",
    "   'exports',\n",
    "   'eaa']"
   ]
  },
  {
   "cell_type": "code",
   "execution_count": 45,
   "metadata": {},
   "outputs": [],
   "source": [
    "votes = pd.read_csv('house-votes-84.data',names = names)\n",
    "votes = votes[[c for c in votes if c not in ['Class']] + ['Class']]\n",
    "votes['Class'] = votes['Class'].astype(\"category\").cat.codes\n",
    "votes2 = votes[(votes != '?').all(axis=1)]\n",
    "#this removes over 200 of my sample points"
   ]
  },
  {
   "cell_type": "code",
   "execution_count": null,
   "metadata": {},
   "outputs": [],
   "source": [
    "len(votes)"
   ]
  },
  {
   "cell_type": "code",
   "execution_count": 46,
   "metadata": {},
   "outputs": [],
   "source": [
    "#handle imputations\n",
    "vote_dic = defaultdict(lambda: defaultdict(int))\n",
    "\n",
    "for index,row in votes.iterrows():\n",
    "    for cols in votes.columns:\n",
    "        if cols != 'Class':\n",
    "            if row[cols] == 'y':\n",
    "                vote_dic[row['Class']][cols] +=1"
   ]
  },
  {
   "cell_type": "code",
   "execution_count": 47,
   "metadata": {},
   "outputs": [],
   "source": [
    "#data imputation - using most likely vote based on party\n",
    "for i in votes.index:\n",
    "    for cols in votes.columns:\n",
    "        if votes[cols][i] == '?' and votes['Class'][i] == 1:\n",
    "            votes.at[i,cols] = 'y' if vote_dic[1][cols] > vote_dic[0][cols] else 'n'\n",
    "        elif votes[cols][i] == '?' and votes['Class'][i] == 0: \n",
    "            votes.at[i,cols] = 'y' if vote_dic[0][cols] > vote_dic[1][cols] else 'n'"
   ]
  },
  {
   "cell_type": "code",
   "execution_count": 48,
   "metadata": {},
   "outputs": [],
   "source": [
    "for cols in votes:\n",
    "    votes[cols] = votes[cols].astype(\"category\").cat.codes"
   ]
  },
  {
   "cell_type": "code",
   "execution_count": 49,
   "metadata": {
    "scrolled": true
   },
   "outputs": [
    {
     "data": {
      "text/plain": [
       "infants        int8\n",
       "water          int8\n",
       "budget         int8\n",
       "physician      int8\n",
       "elsal          int8\n",
       "religious      int8\n",
       "anti-sat       int8\n",
       "contras        int8\n",
       "missile        int8\n",
       "immigration    int8\n",
       "synfuels       int8\n",
       "education      int8\n",
       "sue            int8\n",
       "crime          int8\n",
       "exports        int8\n",
       "eaa            int8\n",
       "Class          int8\n",
       "dtype: object"
      ]
     },
     "execution_count": 49,
     "metadata": {},
     "output_type": "execute_result"
    }
   ],
   "source": [
    "votes.dtypes"
   ]
  },
  {
   "cell_type": "code",
   "execution_count": 52,
   "metadata": {},
   "outputs": [],
   "source": [
    "temp = votes.iloc[:,0:-1]\n",
    "temp = build_dummies(temp)\n",
    "temp.insert(loc = len(temp.columns), column='Class', value = list(votes.iloc[:,-1]))\n",
    "X_train,y_train,X_test,y_test = test_train_split(temp,.27)"
   ]
  },
  {
   "cell_type": "code",
   "execution_count": 53,
   "metadata": {},
   "outputs": [
    {
     "ename": "KeyboardInterrupt",
     "evalue": "",
     "output_type": "error",
     "traceback": [
      "\u001b[1;31m---------------------------------------------------------------------------\u001b[0m",
      "\u001b[1;31mKeyboardInterrupt\u001b[0m                         Traceback (most recent call last)",
      "\u001b[1;32m<ipython-input-53-b49728015fd2>\u001b[0m in \u001b[0;36m<module>\u001b[1;34m\u001b[0m\n\u001b[1;32m----> 1\u001b[1;33m \u001b[0ma\u001b[0m \u001b[1;33m=\u001b[0m \u001b[0mwinnow\u001b[0m\u001b[1;33m(\u001b[0m\u001b[0mX_train\u001b[0m\u001b[1;33m,\u001b[0m\u001b[0my_train\u001b[0m\u001b[1;33m,\u001b[0m\u001b[1;36m16\u001b[0m\u001b[1;33m,\u001b[0m\u001b[1;36m1.2\u001b[0m\u001b[1;33m)\u001b[0m\u001b[1;33m\u001b[0m\u001b[1;33m\u001b[0m\u001b[0m\n\u001b[0m",
      "\u001b[1;32m<ipython-input-8-183f13d089ce>\u001b[0m in \u001b[0;36mwinnow\u001b[1;34m(df, labels, theta, alpha)\u001b[0m\n\u001b[0;32m     14\u001b[0m         \u001b[0mdone\u001b[0m \u001b[1;33m=\u001b[0m \u001b[1;32mTrue\u001b[0m\u001b[1;33m\u001b[0m\u001b[1;33m\u001b[0m\u001b[0m\n\u001b[0;32m     15\u001b[0m         \u001b[1;32mfor\u001b[0m \u001b[0mi\u001b[0m \u001b[1;32min\u001b[0m \u001b[0mrange\u001b[0m\u001b[1;33m(\u001b[0m\u001b[0mlen\u001b[0m\u001b[1;33m(\u001b[0m\u001b[0mdf\u001b[0m\u001b[1;33m)\u001b[0m\u001b[1;33m)\u001b[0m\u001b[1;33m:\u001b[0m\u001b[1;33m\u001b[0m\u001b[1;33m\u001b[0m\u001b[0m\n\u001b[1;32m---> 16\u001b[1;33m             \u001b[0mclassified\u001b[0m \u001b[1;33m=\u001b[0m \u001b[1;33m(\u001b[0m\u001b[0msum\u001b[0m\u001b[1;33m(\u001b[0m\u001b[1;33m[\u001b[0m\u001b[0ma\u001b[0m\u001b[1;33m*\u001b[0m\u001b[0mb\u001b[0m \u001b[1;32mfor\u001b[0m \u001b[0ma\u001b[0m\u001b[1;33m,\u001b[0m\u001b[0mb\u001b[0m \u001b[1;32min\u001b[0m \u001b[0mzip\u001b[0m\u001b[1;33m(\u001b[0m\u001b[0mweights\u001b[0m\u001b[1;33m,\u001b[0m\u001b[0mdf\u001b[0m\u001b[1;33m.\u001b[0m\u001b[0miloc\u001b[0m\u001b[1;33m[\u001b[0m\u001b[0mi\u001b[0m\u001b[1;33m,\u001b[0m\u001b[1;33m:\u001b[0m\u001b[1;33m]\u001b[0m\u001b[1;33m)\u001b[0m\u001b[1;33m]\u001b[0m\u001b[1;33m)\u001b[0m \u001b[1;33m>\u001b[0m \u001b[0mtheta\u001b[0m\u001b[1;33m)\u001b[0m\u001b[1;33m\u001b[0m\u001b[1;33m\u001b[0m\u001b[0m\n\u001b[0m\u001b[0;32m     17\u001b[0m             \u001b[1;31m#print(sum([a*b for a,b in zip(weights,df.iloc[i,:])]))\u001b[0m\u001b[1;33m\u001b[0m\u001b[1;33m\u001b[0m\u001b[1;33m\u001b[0m\u001b[0m\n\u001b[0;32m     18\u001b[0m             \u001b[1;32mif\u001b[0m \u001b[0mclassified\u001b[0m \u001b[1;33m!=\u001b[0m \u001b[0mlabels\u001b[0m\u001b[1;33m[\u001b[0m\u001b[0mi\u001b[0m\u001b[1;33m]\u001b[0m\u001b[1;33m:\u001b[0m\u001b[1;33m\u001b[0m\u001b[1;33m\u001b[0m\u001b[0m\n",
      "\u001b[1;32m~\\Anaconda3\\lib\\site-packages\\pandas\\core\\indexing.py\u001b[0m in \u001b[0;36m__getitem__\u001b[1;34m(self, key)\u001b[0m\n\u001b[0;32m   1492\u001b[0m             \u001b[1;32mexcept\u001b[0m \u001b[1;33m(\u001b[0m\u001b[0mKeyError\u001b[0m\u001b[1;33m,\u001b[0m \u001b[0mIndexError\u001b[0m\u001b[1;33m,\u001b[0m \u001b[0mAttributeError\u001b[0m\u001b[1;33m)\u001b[0m\u001b[1;33m:\u001b[0m\u001b[1;33m\u001b[0m\u001b[1;33m\u001b[0m\u001b[0m\n\u001b[0;32m   1493\u001b[0m                 \u001b[1;32mpass\u001b[0m\u001b[1;33m\u001b[0m\u001b[1;33m\u001b[0m\u001b[0m\n\u001b[1;32m-> 1494\u001b[1;33m             \u001b[1;32mreturn\u001b[0m \u001b[0mself\u001b[0m\u001b[1;33m.\u001b[0m\u001b[0m_getitem_tuple\u001b[0m\u001b[1;33m(\u001b[0m\u001b[0mkey\u001b[0m\u001b[1;33m)\u001b[0m\u001b[1;33m\u001b[0m\u001b[1;33m\u001b[0m\u001b[0m\n\u001b[0m\u001b[0;32m   1495\u001b[0m         \u001b[1;32melse\u001b[0m\u001b[1;33m:\u001b[0m\u001b[1;33m\u001b[0m\u001b[1;33m\u001b[0m\u001b[0m\n\u001b[0;32m   1496\u001b[0m             \u001b[1;31m# we by definition only have the 0th axis\u001b[0m\u001b[1;33m\u001b[0m\u001b[1;33m\u001b[0m\u001b[1;33m\u001b[0m\u001b[0m\n",
      "\u001b[1;32m~\\Anaconda3\\lib\\site-packages\\pandas\\core\\indexing.py\u001b[0m in \u001b[0;36m_getitem_tuple\u001b[1;34m(self, tup)\u001b[0m\n\u001b[0;32m   2141\u001b[0m     \u001b[1;32mdef\u001b[0m \u001b[0m_getitem_tuple\u001b[0m\u001b[1;33m(\u001b[0m\u001b[0mself\u001b[0m\u001b[1;33m,\u001b[0m \u001b[0mtup\u001b[0m\u001b[1;33m)\u001b[0m\u001b[1;33m:\u001b[0m\u001b[1;33m\u001b[0m\u001b[1;33m\u001b[0m\u001b[0m\n\u001b[0;32m   2142\u001b[0m \u001b[1;33m\u001b[0m\u001b[0m\n\u001b[1;32m-> 2143\u001b[1;33m         \u001b[0mself\u001b[0m\u001b[1;33m.\u001b[0m\u001b[0m_has_valid_tuple\u001b[0m\u001b[1;33m(\u001b[0m\u001b[0mtup\u001b[0m\u001b[1;33m)\u001b[0m\u001b[1;33m\u001b[0m\u001b[1;33m\u001b[0m\u001b[0m\n\u001b[0m\u001b[0;32m   2144\u001b[0m         \u001b[1;32mtry\u001b[0m\u001b[1;33m:\u001b[0m\u001b[1;33m\u001b[0m\u001b[1;33m\u001b[0m\u001b[0m\n\u001b[0;32m   2145\u001b[0m             \u001b[1;32mreturn\u001b[0m \u001b[0mself\u001b[0m\u001b[1;33m.\u001b[0m\u001b[0m_getitem_lowerdim\u001b[0m\u001b[1;33m(\u001b[0m\u001b[0mtup\u001b[0m\u001b[1;33m)\u001b[0m\u001b[1;33m\u001b[0m\u001b[1;33m\u001b[0m\u001b[0m\n",
      "\u001b[1;32m~\\Anaconda3\\lib\\site-packages\\pandas\\core\\indexing.py\u001b[0m in \u001b[0;36m_has_valid_tuple\u001b[1;34m(self, key)\u001b[0m\n\u001b[0;32m    221\u001b[0m                 \u001b[1;32mraise\u001b[0m \u001b[0mIndexingError\u001b[0m\u001b[1;33m(\u001b[0m\u001b[1;34m'Too many indexers'\u001b[0m\u001b[1;33m)\u001b[0m\u001b[1;33m\u001b[0m\u001b[1;33m\u001b[0m\u001b[0m\n\u001b[0;32m    222\u001b[0m             \u001b[1;32mtry\u001b[0m\u001b[1;33m:\u001b[0m\u001b[1;33m\u001b[0m\u001b[1;33m\u001b[0m\u001b[0m\n\u001b[1;32m--> 223\u001b[1;33m                 \u001b[0mself\u001b[0m\u001b[1;33m.\u001b[0m\u001b[0m_validate_key\u001b[0m\u001b[1;33m(\u001b[0m\u001b[0mk\u001b[0m\u001b[1;33m,\u001b[0m \u001b[0mi\u001b[0m\u001b[1;33m)\u001b[0m\u001b[1;33m\u001b[0m\u001b[1;33m\u001b[0m\u001b[0m\n\u001b[0m\u001b[0;32m    224\u001b[0m             \u001b[1;32mexcept\u001b[0m \u001b[0mValueError\u001b[0m\u001b[1;33m:\u001b[0m\u001b[1;33m\u001b[0m\u001b[1;33m\u001b[0m\u001b[0m\n\u001b[0;32m    225\u001b[0m                 raise ValueError(\"Location based indexing can only have \"\n",
      "\u001b[1;32m~\\Anaconda3\\lib\\site-packages\\pandas\\core\\indexing.py\u001b[0m in \u001b[0;36m_validate_key\u001b[1;34m(self, key, axis)\u001b[0m\n\u001b[0;32m   2055\u001b[0m \u001b[1;33m\u001b[0m\u001b[0m\n\u001b[0;32m   2056\u001b[0m     \u001b[1;32mdef\u001b[0m \u001b[0m_validate_key\u001b[0m\u001b[1;33m(\u001b[0m\u001b[0mself\u001b[0m\u001b[1;33m,\u001b[0m \u001b[0mkey\u001b[0m\u001b[1;33m,\u001b[0m \u001b[0maxis\u001b[0m\u001b[1;33m)\u001b[0m\u001b[1;33m:\u001b[0m\u001b[1;33m\u001b[0m\u001b[1;33m\u001b[0m\u001b[0m\n\u001b[1;32m-> 2057\u001b[1;33m         \u001b[1;32mif\u001b[0m \u001b[0mcom\u001b[0m\u001b[1;33m.\u001b[0m\u001b[0mis_bool_indexer\u001b[0m\u001b[1;33m(\u001b[0m\u001b[0mkey\u001b[0m\u001b[1;33m)\u001b[0m\u001b[1;33m:\u001b[0m\u001b[1;33m\u001b[0m\u001b[1;33m\u001b[0m\u001b[0m\n\u001b[0m\u001b[0;32m   2058\u001b[0m             \u001b[1;32mif\u001b[0m \u001b[0mhasattr\u001b[0m\u001b[1;33m(\u001b[0m\u001b[0mkey\u001b[0m\u001b[1;33m,\u001b[0m \u001b[1;34m'index'\u001b[0m\u001b[1;33m)\u001b[0m \u001b[1;32mand\u001b[0m \u001b[0misinstance\u001b[0m\u001b[1;33m(\u001b[0m\u001b[0mkey\u001b[0m\u001b[1;33m.\u001b[0m\u001b[0mindex\u001b[0m\u001b[1;33m,\u001b[0m \u001b[0mIndex\u001b[0m\u001b[1;33m)\u001b[0m\u001b[1;33m:\u001b[0m\u001b[1;33m\u001b[0m\u001b[1;33m\u001b[0m\u001b[0m\n\u001b[0;32m   2059\u001b[0m                 \u001b[1;32mif\u001b[0m \u001b[0mkey\u001b[0m\u001b[1;33m.\u001b[0m\u001b[0mindex\u001b[0m\u001b[1;33m.\u001b[0m\u001b[0minferred_type\u001b[0m \u001b[1;33m==\u001b[0m \u001b[1;34m'integer'\u001b[0m\u001b[1;33m:\u001b[0m\u001b[1;33m\u001b[0m\u001b[1;33m\u001b[0m\u001b[0m\n",
      "\u001b[1;32m~\\Anaconda3\\lib\\site-packages\\pandas\\core\\common.py\u001b[0m in \u001b[0;36mis_bool_indexer\u001b[1;34m(key)\u001b[0m\n\u001b[0;32m    116\u001b[0m     \u001b[0mna_msg\u001b[0m \u001b[1;33m=\u001b[0m \u001b[1;34m'cannot index with vector containing NA / NaN values'\u001b[0m\u001b[1;33m\u001b[0m\u001b[1;33m\u001b[0m\u001b[0m\n\u001b[0;32m    117\u001b[0m     if (isinstance(key, (ABCSeries, np.ndarray, ABCIndex)) or\n\u001b[1;32m--> 118\u001b[1;33m             (is_array_like(key) and is_extension_array_dtype(key.dtype))):\n\u001b[0m\u001b[0;32m    119\u001b[0m         \u001b[1;32mif\u001b[0m \u001b[0mkey\u001b[0m\u001b[1;33m.\u001b[0m\u001b[0mdtype\u001b[0m \u001b[1;33m==\u001b[0m \u001b[0mnp\u001b[0m\u001b[1;33m.\u001b[0m\u001b[0mobject_\u001b[0m\u001b[1;33m:\u001b[0m\u001b[1;33m\u001b[0m\u001b[1;33m\u001b[0m\u001b[0m\n\u001b[0;32m    120\u001b[0m             \u001b[0mkey\u001b[0m \u001b[1;33m=\u001b[0m \u001b[0mnp\u001b[0m\u001b[1;33m.\u001b[0m\u001b[0masarray\u001b[0m\u001b[1;33m(\u001b[0m\u001b[0mvalues_from_object\u001b[0m\u001b[1;33m(\u001b[0m\u001b[0mkey\u001b[0m\u001b[1;33m)\u001b[0m\u001b[1;33m)\u001b[0m\u001b[1;33m\u001b[0m\u001b[1;33m\u001b[0m\u001b[0m\n",
      "\u001b[1;32m~\\Anaconda3\\lib\\site-packages\\pandas\\core\\dtypes\\inference.py\u001b[0m in \u001b[0;36mis_array_like\u001b[1;34m(obj)\u001b[0m\n\u001b[0;32m    332\u001b[0m     \"\"\"\n\u001b[0;32m    333\u001b[0m \u001b[1;33m\u001b[0m\u001b[0m\n\u001b[1;32m--> 334\u001b[1;33m     \u001b[1;32mreturn\u001b[0m \u001b[0mis_list_like\u001b[0m\u001b[1;33m(\u001b[0m\u001b[0mobj\u001b[0m\u001b[1;33m)\u001b[0m \u001b[1;32mand\u001b[0m \u001b[0mhasattr\u001b[0m\u001b[1;33m(\u001b[0m\u001b[0mobj\u001b[0m\u001b[1;33m,\u001b[0m \u001b[1;34m\"dtype\"\u001b[0m\u001b[1;33m)\u001b[0m\u001b[1;33m\u001b[0m\u001b[1;33m\u001b[0m\u001b[0m\n\u001b[0m\u001b[0;32m    335\u001b[0m \u001b[1;33m\u001b[0m\u001b[0m\n\u001b[0;32m    336\u001b[0m \u001b[1;33m\u001b[0m\u001b[0m\n",
      "\u001b[1;32m~\\Anaconda3\\lib\\site-packages\\pandas\\core\\dtypes\\inference.py\u001b[0m in \u001b[0;36mis_list_like\u001b[1;34m(obj, allow_sets)\u001b[0m\n\u001b[0;32m    291\u001b[0m     \"\"\"\n\u001b[0;32m    292\u001b[0m \u001b[1;33m\u001b[0m\u001b[0m\n\u001b[1;32m--> 293\u001b[1;33m     return (isinstance(obj, compat.Iterable)\n\u001b[0m\u001b[0;32m    294\u001b[0m             \u001b[1;31m# we do not count strings/unicode/bytes as list-like\u001b[0m\u001b[1;33m\u001b[0m\u001b[1;33m\u001b[0m\u001b[1;33m\u001b[0m\u001b[0m\n\u001b[0;32m    295\u001b[0m             \u001b[1;32mand\u001b[0m \u001b[1;32mnot\u001b[0m \u001b[0misinstance\u001b[0m\u001b[1;33m(\u001b[0m\u001b[0mobj\u001b[0m\u001b[1;33m,\u001b[0m \u001b[0mstring_and_binary_types\u001b[0m\u001b[1;33m)\u001b[0m\u001b[1;33m\u001b[0m\u001b[1;33m\u001b[0m\u001b[0m\n",
      "\u001b[1;32m~\\Anaconda3\\lib\\abc.py\u001b[0m in \u001b[0;36m__instancecheck__\u001b[1;34m(cls, instance)\u001b[0m\n\u001b[0;32m    181\u001b[0m         \u001b[1;34m\"\"\"Override for isinstance(instance, cls).\"\"\"\u001b[0m\u001b[1;33m\u001b[0m\u001b[1;33m\u001b[0m\u001b[0m\n\u001b[0;32m    182\u001b[0m         \u001b[1;31m# Inline the cache checking\u001b[0m\u001b[1;33m\u001b[0m\u001b[1;33m\u001b[0m\u001b[1;33m\u001b[0m\u001b[0m\n\u001b[1;32m--> 183\u001b[1;33m         \u001b[0msubclass\u001b[0m \u001b[1;33m=\u001b[0m \u001b[0minstance\u001b[0m\u001b[1;33m.\u001b[0m\u001b[0m__class__\u001b[0m\u001b[1;33m\u001b[0m\u001b[1;33m\u001b[0m\u001b[0m\n\u001b[0m\u001b[0;32m    184\u001b[0m         \u001b[1;32mif\u001b[0m \u001b[0msubclass\u001b[0m \u001b[1;32min\u001b[0m \u001b[0mcls\u001b[0m\u001b[1;33m.\u001b[0m\u001b[0m_abc_cache\u001b[0m\u001b[1;33m:\u001b[0m\u001b[1;33m\u001b[0m\u001b[1;33m\u001b[0m\u001b[0m\n\u001b[0;32m    185\u001b[0m             \u001b[1;32mreturn\u001b[0m \u001b[1;32mTrue\u001b[0m\u001b[1;33m\u001b[0m\u001b[1;33m\u001b[0m\u001b[0m\n",
      "\u001b[1;31mKeyboardInterrupt\u001b[0m: "
     ]
    }
   ],
   "source": [
    "a = winnow(X_train,y_train,16,1.2)"
   ]
  },
  {
   "cell_type": "code",
   "execution_count": null,
   "metadata": {},
   "outputs": [],
   "source": [
    "preds = predict_winnow(preds,y_test,w,8)"
   ]
  },
  {
   "cell_type": "code",
   "execution_count": null,
   "metadata": {},
   "outputs": [],
   "source": [
    "confusion(preds,y_test)"
   ]
  },
  {
   "cell_type": "code",
   "execution_count": null,
   "metadata": {},
   "outputs": [],
   "source": []
  },
  {
   "cell_type": "code",
   "execution_count": 54,
   "metadata": {},
   "outputs": [],
   "source": [
    "def class_prob(classdata):\n",
    "    class_totals = defaultdict(int)\n",
    "    class_prob = defaultdict(int)\n",
    "    #listdf = df.values.tolist()\n",
    "    total = len(classdata)\n",
    "    for i in classdata:\n",
    "        class_totals[i] += 1\n",
    "    for key in class_totals:\n",
    "        class_prob[key] = class_totals[key]/total\n",
    "    return class_totals, class_prob"
   ]
  },
  {
   "cell_type": "code",
   "execution_count": 55,
   "metadata": {},
   "outputs": [],
   "source": [
    "def splitByClass(X,y):\n",
    "    classData = defaultdict(list)    \n",
    "    listdf = X.values.tolist()\n",
    "    for i in range(len(listdf)):\n",
    "        row = listdf[i]\n",
    "        classData[y[i]].append(row)\n",
    "    return classData"
   ]
  },
  {
   "cell_type": "code",
   "execution_count": 56,
   "metadata": {},
   "outputs": [],
   "source": [
    "def feature_stats(X):\n",
    "    '''results verified with excel'''\n",
    "    feature_data = defaultdict(list)\n",
    "    features = X.values.tolist()\n",
    "    stats = [(np.mean(feature), np.var(feature)) for feature in zip(*features)]\n",
    "    for i in range(len(X.columns)):\n",
    "        feature_data[X.columns[i]] = stats[i]\n",
    "    \n",
    "    return feature_data"
   ]
  },
  {
   "cell_type": "code",
   "execution_count": 57,
   "metadata": {},
   "outputs": [],
   "source": [
    "def feature_stats_byClass(classdict):\n",
    "    '''results verified with excel'''\n",
    "    features_byClass = defaultdict(dict)\n",
    "    for key in classdict:\n",
    "        classmean = [np.mean(feature) for feature in zip(*classdict[key])]\n",
    "        classvar = [np.var(feature,dtype=np.float64) for feature in zip(*classdict[key])]\n",
    "        features_byClass[key] = {\"mean\":classmean,\"var\":classvar}\n",
    "    \n",
    "    return features_byClass"
   ]
  },
  {
   "cell_type": "code",
   "execution_count": 58,
   "metadata": {},
   "outputs": [],
   "source": [
    "from scipy.stats import norm\n",
    "def prob_calc(xval,xmean,xvariance):\n",
    "    '''assume iid, normally distributed sampling distribution'''\n",
    "    return norm.pdf(xval,xmean,xvariance) + 1/100\n",
    "    "
   ]
  },
  {
   "cell_type": "code",
   "execution_count": 59,
   "metadata": {},
   "outputs": [],
   "source": [
    "def predict(test, fstats,by_class,classprob):\n",
    "    '''given data, looking for P(class | data) using the trained data from from feature values'''\n",
    "    #which class has highest probability given the data?\n",
    "    classes = classprob.keys()\n",
    "    post = {x:-1 for x in range(len(test))}\n",
    "    preds = [-1]*len(test)\n",
    "    for i in range(len(test)):\n",
    "        for j in classes:\n",
    "            prob_class = classprob[j]\n",
    "            maxprob = 0\n",
    "            likelihood = 1\n",
    "            for k in range(len(test.columns)):\n",
    "                likelihood = likelihood * (prob_calc(test.iloc[i,k]+.1,by_class[j]['mean'][k]+.1,by_class[j]['var'][k]+.1))\n",
    "\n",
    "            posterior = likelihood * prob_class\n",
    "\n",
    "            if posterior > post[i]:                \n",
    "                post[i] = posterior\n",
    "                preds[i] = j\n",
    "                \n",
    "    return preds\n",
    "            \n",
    "                \n",
    "    "
   ]
  },
  {
   "cell_type": "code",
   "execution_count": null,
   "metadata": {},
   "outputs": [],
   "source": [
    "classprob"
   ]
  },
  {
   "cell_type": "code",
   "execution_count": 60,
   "metadata": {
    "scrolled": true
   },
   "outputs": [
    {
     "data": {
      "text/html": [
       "<div>\n",
       "<style scoped>\n",
       "    .dataframe tbody tr th:only-of-type {\n",
       "        vertical-align: middle;\n",
       "    }\n",
       "\n",
       "    .dataframe tbody tr th {\n",
       "        vertical-align: top;\n",
       "    }\n",
       "\n",
       "    .dataframe thead th {\n",
       "        text-align: right;\n",
       "    }\n",
       "</style>\n",
       "<table border=\"1\" class=\"dataframe\">\n",
       "  <thead>\n",
       "    <tr style=\"text-align: right;\">\n",
       "      <th>Predicted</th>\n",
       "      <th>0</th>\n",
       "      <th>1</th>\n",
       "    </tr>\n",
       "    <tr>\n",
       "      <th>Actual</th>\n",
       "      <th></th>\n",
       "      <th></th>\n",
       "    </tr>\n",
       "  </thead>\n",
       "  <tbody>\n",
       "    <tr>\n",
       "      <th>0</th>\n",
       "      <td>136</td>\n",
       "      <td>3</td>\n",
       "    </tr>\n",
       "    <tr>\n",
       "      <th>1</th>\n",
       "      <td>18</td>\n",
       "      <td>68</td>\n",
       "    </tr>\n",
       "  </tbody>\n",
       "</table>\n",
       "</div>"
      ],
      "text/plain": [
       "Predicted    0   1\n",
       "Actual            \n",
       "0          136   3\n",
       "1           18  68"
      ]
     },
     "execution_count": 60,
     "metadata": {},
     "output_type": "execute_result"
    }
   ],
   "source": [
    "#train on bc\n",
    "X_train,y_train,X_test,y_test = test_train_split(bc.iloc[:,1:],.67)\n",
    "fstats = feature_stats(X_train)\n",
    "by_class = feature_stats_byClass(splitByClass(X_train,y_train))\n",
    "classtot,classprob = class_prob(y_train)\n",
    "bc_nb = predict(X_test,fstats,by_class,classprob)\n",
    "bc_nb_test_y = y_test\n",
    "confusion(bc_nb_test_y,bc_nb)"
   ]
  },
  {
   "cell_type": "code",
   "execution_count": 61,
   "metadata": {},
   "outputs": [
    {
     "data": {
      "text/html": [
       "<div>\n",
       "<style scoped>\n",
       "    .dataframe tbody tr th:only-of-type {\n",
       "        vertical-align: middle;\n",
       "    }\n",
       "\n",
       "    .dataframe tbody tr th {\n",
       "        vertical-align: top;\n",
       "    }\n",
       "\n",
       "    .dataframe thead th {\n",
       "        text-align: right;\n",
       "    }\n",
       "</style>\n",
       "<table border=\"1\" class=\"dataframe\">\n",
       "  <thead>\n",
       "    <tr style=\"text-align: right;\">\n",
       "      <th>Predicted</th>\n",
       "      <th>0</th>\n",
       "      <th>1</th>\n",
       "      <th>2</th>\n",
       "      <th>3</th>\n",
       "      <th>4</th>\n",
       "      <th>5</th>\n",
       "    </tr>\n",
       "    <tr>\n",
       "      <th>Actual</th>\n",
       "      <th></th>\n",
       "      <th></th>\n",
       "      <th></th>\n",
       "      <th></th>\n",
       "      <th></th>\n",
       "      <th></th>\n",
       "    </tr>\n",
       "  </thead>\n",
       "  <tbody>\n",
       "    <tr>\n",
       "      <th>0</th>\n",
       "      <td>15</td>\n",
       "      <td>0</td>\n",
       "      <td>5</td>\n",
       "      <td>0</td>\n",
       "      <td>2</td>\n",
       "      <td>0</td>\n",
       "    </tr>\n",
       "    <tr>\n",
       "      <th>1</th>\n",
       "      <td>21</td>\n",
       "      <td>3</td>\n",
       "      <td>0</td>\n",
       "      <td>0</td>\n",
       "      <td>2</td>\n",
       "      <td>0</td>\n",
       "    </tr>\n",
       "    <tr>\n",
       "      <th>2</th>\n",
       "      <td>5</td>\n",
       "      <td>0</td>\n",
       "      <td>1</td>\n",
       "      <td>0</td>\n",
       "      <td>1</td>\n",
       "      <td>0</td>\n",
       "    </tr>\n",
       "    <tr>\n",
       "      <th>3</th>\n",
       "      <td>0</td>\n",
       "      <td>2</td>\n",
       "      <td>0</td>\n",
       "      <td>1</td>\n",
       "      <td>0</td>\n",
       "      <td>1</td>\n",
       "    </tr>\n",
       "    <tr>\n",
       "      <th>4</th>\n",
       "      <td>0</td>\n",
       "      <td>0</td>\n",
       "      <td>0</td>\n",
       "      <td>0</td>\n",
       "      <td>2</td>\n",
       "      <td>0</td>\n",
       "    </tr>\n",
       "    <tr>\n",
       "      <th>5</th>\n",
       "      <td>0</td>\n",
       "      <td>0</td>\n",
       "      <td>0</td>\n",
       "      <td>0</td>\n",
       "      <td>0</td>\n",
       "      <td>9</td>\n",
       "    </tr>\n",
       "  </tbody>\n",
       "</table>\n",
       "</div>"
      ],
      "text/plain": [
       "Predicted   0  1  2  3  4  5\n",
       "Actual                      \n",
       "0          15  0  5  0  2  0\n",
       "1          21  3  0  0  2  0\n",
       "2           5  0  1  0  1  0\n",
       "3           0  2  0  1  0  1\n",
       "4           0  0  0  0  2  0\n",
       "5           0  0  0  0  0  9"
      ]
     },
     "execution_count": 61,
     "metadata": {},
     "output_type": "execute_result"
    }
   ],
   "source": [
    "#train on glass_df\n",
    "X_train,y_train,X_test,y_test = test_train_split(glass_df,.67)\n",
    "fstats = feature_stats(X_train)\n",
    "by_class = feature_stats_byClass(splitByClass(X_train,y_train))\n",
    "classtot,classprob = class_prob(y_train)\n",
    "glass_nb = predict(X_test,fstats,by_class,classprob)\n",
    "glass_nb_test_y = y_test\n",
    "confusion(glass_nb_test_y,glass_nb)"
   ]
  },
  {
   "cell_type": "code",
   "execution_count": 62,
   "metadata": {},
   "outputs": [
    {
     "data": {
      "text/html": [
       "<div>\n",
       "<style scoped>\n",
       "    .dataframe tbody tr th:only-of-type {\n",
       "        vertical-align: middle;\n",
       "    }\n",
       "\n",
       "    .dataframe tbody tr th {\n",
       "        vertical-align: top;\n",
       "    }\n",
       "\n",
       "    .dataframe thead th {\n",
       "        text-align: right;\n",
       "    }\n",
       "</style>\n",
       "<table border=\"1\" class=\"dataframe\">\n",
       "  <thead>\n",
       "    <tr style=\"text-align: right;\">\n",
       "      <th>Predicted</th>\n",
       "      <th>0</th>\n",
       "      <th>1</th>\n",
       "      <th>2</th>\n",
       "    </tr>\n",
       "    <tr>\n",
       "      <th>Actual</th>\n",
       "      <th></th>\n",
       "      <th></th>\n",
       "      <th></th>\n",
       "    </tr>\n",
       "  </thead>\n",
       "  <tbody>\n",
       "    <tr>\n",
       "      <th>0</th>\n",
       "      <td>19</td>\n",
       "      <td>0</td>\n",
       "      <td>0</td>\n",
       "    </tr>\n",
       "    <tr>\n",
       "      <th>1</th>\n",
       "      <td>0</td>\n",
       "      <td>15</td>\n",
       "      <td>0</td>\n",
       "    </tr>\n",
       "    <tr>\n",
       "      <th>2</th>\n",
       "      <td>0</td>\n",
       "      <td>2</td>\n",
       "      <td>13</td>\n",
       "    </tr>\n",
       "  </tbody>\n",
       "</table>\n",
       "</div>"
      ],
      "text/plain": [
       "Predicted   0   1   2\n",
       "Actual               \n",
       "0          19   0   0\n",
       "1           0  15   0\n",
       "2           0   2  13"
      ]
     },
     "execution_count": 62,
     "metadata": {},
     "output_type": "execute_result"
    }
   ],
   "source": [
    "#train on iris_df\n",
    "X_train,y_train,X_test,y_test = test_train_split(iris_df,.67)\n",
    "fstats = feature_stats(X_train)\n",
    "by_class = feature_stats_byClass(splitByClass(X_train,y_train))\n",
    "classtot,classprob = class_prob(y_train)\n",
    "glass_nb = predict(X_test,fstats,by_class,classprob)\n",
    "glass_nb_test_y = y_test\n",
    "confusion(glass_nb_test_y,glass_nb)"
   ]
  },
  {
   "cell_type": "code",
   "execution_count": 63,
   "metadata": {},
   "outputs": [
    {
     "data": {
      "text/html": [
       "<div>\n",
       "<style scoped>\n",
       "    .dataframe tbody tr th:only-of-type {\n",
       "        vertical-align: middle;\n",
       "    }\n",
       "\n",
       "    .dataframe tbody tr th {\n",
       "        vertical-align: top;\n",
       "    }\n",
       "\n",
       "    .dataframe thead th {\n",
       "        text-align: right;\n",
       "    }\n",
       "</style>\n",
       "<table border=\"1\" class=\"dataframe\">\n",
       "  <thead>\n",
       "    <tr style=\"text-align: right;\">\n",
       "      <th>Predicted</th>\n",
       "      <th>0</th>\n",
       "      <th>1</th>\n",
       "      <th>2</th>\n",
       "      <th>3</th>\n",
       "    </tr>\n",
       "    <tr>\n",
       "      <th>Actual</th>\n",
       "      <th></th>\n",
       "      <th></th>\n",
       "      <th></th>\n",
       "      <th></th>\n",
       "    </tr>\n",
       "  </thead>\n",
       "  <tbody>\n",
       "    <tr>\n",
       "      <th>0</th>\n",
       "      <td>4</td>\n",
       "      <td>0</td>\n",
       "      <td>0</td>\n",
       "      <td>0</td>\n",
       "    </tr>\n",
       "    <tr>\n",
       "      <th>1</th>\n",
       "      <td>0</td>\n",
       "      <td>3</td>\n",
       "      <td>0</td>\n",
       "      <td>0</td>\n",
       "    </tr>\n",
       "    <tr>\n",
       "      <th>2</th>\n",
       "      <td>0</td>\n",
       "      <td>0</td>\n",
       "      <td>1</td>\n",
       "      <td>0</td>\n",
       "    </tr>\n",
       "    <tr>\n",
       "      <th>3</th>\n",
       "      <td>0</td>\n",
       "      <td>0</td>\n",
       "      <td>0</td>\n",
       "      <td>7</td>\n",
       "    </tr>\n",
       "  </tbody>\n",
       "</table>\n",
       "</div>"
      ],
      "text/plain": [
       "Predicted  0  1  2  3\n",
       "Actual               \n",
       "0          4  0  0  0\n",
       "1          0  3  0  0\n",
       "2          0  0  1  0\n",
       "3          0  0  0  7"
      ]
     },
     "execution_count": 63,
     "metadata": {},
     "output_type": "execute_result"
    }
   ],
   "source": [
    "#train on soy\n",
    "X_train,y_train,X_test,y_test = test_train_split(soy_df,.67)\n",
    "fstats = feature_stats(X_train)\n",
    "by_class = feature_stats_byClass(splitByClass(X_train,y_train))\n",
    "classtot,classprob = class_prob(y_train)\n",
    "glass_nb = predict(X_test,fstats,by_class,classprob)\n",
    "glass_nb_test_y = y_test\n",
    "confusion(glass_nb_test_y,glass_nb)"
   ]
  },
  {
   "cell_type": "code",
   "execution_count": 64,
   "metadata": {
    "scrolled": true
   },
   "outputs": [
    {
     "data": {
      "text/html": [
       "<div>\n",
       "<style scoped>\n",
       "    .dataframe tbody tr th:only-of-type {\n",
       "        vertical-align: middle;\n",
       "    }\n",
       "\n",
       "    .dataframe tbody tr th {\n",
       "        vertical-align: top;\n",
       "    }\n",
       "\n",
       "    .dataframe thead th {\n",
       "        text-align: right;\n",
       "    }\n",
       "</style>\n",
       "<table border=\"1\" class=\"dataframe\">\n",
       "  <thead>\n",
       "    <tr style=\"text-align: right;\">\n",
       "      <th>Predicted</th>\n",
       "      <th>0</th>\n",
       "      <th>1</th>\n",
       "    </tr>\n",
       "    <tr>\n",
       "      <th>Actual</th>\n",
       "      <th></th>\n",
       "      <th></th>\n",
       "    </tr>\n",
       "  </thead>\n",
       "  <tbody>\n",
       "    <tr>\n",
       "      <th>0</th>\n",
       "      <td>68</td>\n",
       "      <td>11</td>\n",
       "    </tr>\n",
       "    <tr>\n",
       "      <th>1</th>\n",
       "      <td>2</td>\n",
       "      <td>62</td>\n",
       "    </tr>\n",
       "  </tbody>\n",
       "</table>\n",
       "</div>"
      ],
      "text/plain": [
       "Predicted   0   1\n",
       "Actual           \n",
       "0          68  11\n",
       "1           2  62"
      ]
     },
     "execution_count": 64,
     "metadata": {},
     "output_type": "execute_result"
    }
   ],
   "source": [
    "#train on votes\n",
    "X_train,y_train,X_test,y_test = test_train_split(votes,.67)\n",
    "fstats = feature_stats(X_train)\n",
    "by_class = feature_stats_byClass(splitByClass(X_train,y_train))\n",
    "classtot,classprob = class_prob(y_train)\n",
    "glass_nb = predict(X_test,fstats,by_class,classprob)\n",
    "glass_nb_test_y = y_test\n",
    "confusion(glass_nb_test_y,glass_nb)"
   ]
  },
  {
   "cell_type": "code",
   "execution_count": null,
   "metadata": {},
   "outputs": [],
   "source": []
  },
  {
   "cell_type": "code",
   "execution_count": null,
   "metadata": {},
   "outputs": [],
   "source": []
  }
 ],
 "metadata": {
  "kernelspec": {
   "display_name": "Python 3",
   "language": "python",
   "name": "python3"
  },
  "language_info": {
   "codemirror_mode": {
    "name": "ipython",
    "version": 3
   },
   "file_extension": ".py",
   "mimetype": "text/x-python",
   "name": "python",
   "nbconvert_exporter": "python",
   "pygments_lexer": "ipython3",
   "version": "3.6.8"
  }
 },
 "nbformat": 4,
 "nbformat_minor": 2
}
